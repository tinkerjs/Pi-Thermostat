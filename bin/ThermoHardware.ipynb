{
 "cells": [
  {
   "cell_type": "markdown",
   "metadata": {
    "collapsed": true
   },
   "source": [
    "# Thermostat Hardware Module\n",
    "\n",
    "## Description\n",
    "- The purpose of this application is to support a hardware interface used to provide real time sensor information to the overall application. This will be an automated application with no user interaction. This runs on a raspberry pi b+ using a 2.8\" touch screen. \n",
    "\n",
    "## Features\n",
    "- Control sensors\n",
    "- Read sensor data and provide to database\n",
    "- Read database data\n",
    "- Understand logic for controlling hardware\n",
    "\n",
    "## Issues\n",
    " - It seems like this uses more memory than it needs to. Need to investigate making it more efficient. \n",
    "\n",
    "## The Code and methods\n",
    "- The following section contains the code that is used to make up the hardware interface. It is organized into sections that define configuration, modules that need to be imported and its own modules. \n",
    "\n",
    "### Libraries to import"
   ]
  },
  {
   "cell_type": "code",
   "execution_count": null,
   "metadata": {
    "collapsed": false,
    "scrolled": false
   },
   "outputs": [],
   "source": [
    "import ThermoData #a module for accessing data\n",
    "import RPi.GPIO as GPIO #import the RPI GPIO library \n",
    "import Adafruit_DHT # to read the temp from the AM2302\n",
    "import time # to create delays and get time information\n",
    "import os\n",
    "import logging"
   ]
  },
  {
   "cell_type": "markdown",
   "metadata": {},
   "source": [
    "### Configuration\n",
    "- Here we will setup the GPIO configuration for the Raspberry PI, define the pins and other hardware specific configuration tasks."
   ]
  },
  {
   "cell_type": "code",
   "execution_count": null,
   "metadata": {
    "collapsed": false,
    "scrolled": false
   },
   "outputs": [],
   "source": [
    "#setup logging\n",
    "logDir = os.path.join('/','thermostat','logs')\n",
    "ThermoHardwareLogger = logging.getLogger('ThermoHardware')\n",
    "fhandler = logging.FileHandler(filename=os.path.join(logDir,'thermohardware.log'), mode='a')\n",
    "formatter = logging.Formatter('%(asctime)s - %(name)s - %(levelname)s - %(message)s')\n",
    "fhandler.setFormatter(formatter)\n",
    "ThermoHardwareLogger.addHandler(fhandler)\n",
    "ThermoHardwareLogger.setLevel(logging.INFO)\n",
    "\n",
    "ThermoHardwareLogger.info('100: Thermostat Hardware is starting')\n",
    "\n",
    "dht_sensor = Adafruit_DHT.AM2302 #deinfe the type of DHT sensor for the adafruit lib\n",
    "\n",
    "#assign pins to names\n",
    "#BCM\n",
    "dht_pin = 12\n",
    "fan_pin = 21\n",
    "heat_pin = 16\n",
    "cool_pin = 20\n",
    "\n",
    "\n",
    "#configure the GPIO pins\n",
    "GPIO.setmode(GPIO.BCM) #set the mode of the GPIO \n",
    "GPIO.setup(fan_pin ,GPIO.OUT)\n",
    "GPIO.setup(heat_pin, GPIO.OUT)\n",
    "GPIO.setup(cool_pin, GPIO.OUT)\n",
    "\n",
    "coolingHwStatus = ''\n",
    "heatingHwStatus = ''\n",
    "fanHwStatus = ''\n",
    "offHwStatus = ''\n",
    "refreshCycle = 10\n",
    "\n",
    "ThermoHardwareLogger.info('101: Configuration complete')"
   ]
  },
  {
   "cell_type": "markdown",
   "metadata": {},
   "source": [
    "### The hardware code"
   ]
  },
  {
   "cell_type": "code",
   "execution_count": null,
   "metadata": {
    "collapsed": false,
    "scrolled": false
   },
   "outputs": [],
   "source": [
    "def getHwInfo():\n",
    "    try: \n",
    "        humidity, temperature = Adafruit_DHT.read_retry(dht_sensor, dht_pin)\n",
    "        #logging.info('200: getHwInfo - H:{0} T:{1}'.format(round(humidity,2),round((temperature * 9/5 + 32),2)))\n",
    "        return round(humidity,2), round((temperature * 9/5 + 32),2)\n",
    "    except: \n",
    "        ThermoHardwareLogger.exception('Exception Occurred in ThermoHardware getHwInfo')\n",
    " \n",
    "def writeTempHumid(hwTemp,hwHumidity):\n",
    "    try:\n",
    "        rtwQuery = ThermoData.getRealtimeData()\n",
    "        rtwQuery.rt_currenttemp = hwTemp\n",
    "        #print(hwTemp)\n",
    "        rtwQuery.rt_humidity = hwHumidity\n",
    "        \n",
    "        #print(hwHumidity)\n",
    "        #logging.info('300: writeTempHumid - T:{0} H{1}'.format(hwTemp,hwHumidity))\n",
    "        ThermoData.updateRealTimeData(rtwQuery)\n",
    "        #logging.info('300: writeTempHumid - db updated - H:{0} T{1}'.format(hwHumidity,hwTemp))\n",
    "    except:\n",
    "        ThermoHardwareLogger.exception('Exception Occurred in ThermoHardware writeTempHumid')\n",
    "    \n",
    "def getDBInfo():\n",
    "    try: \n",
    "        rtrQuery = ThermoData.getRealtimeData()\n",
    "        dbFanMode = rtrQuery.rt_fanmode\n",
    "        dbDesTemp = rtrQuery.rt_destemp\n",
    "        return dbFanMode,dbDesTemp\n",
    "    except:\n",
    "        ThermoHardwareLogger.exception('Exception Occurred in ThermoHardware getDBInfo')\n",
    "                                                           \n",
    "def controlHVAC(desiredTemp,hwTemp,fanMode='O'):\n",
    "    try:\n",
    "        global coolingHwStatus \n",
    "        global heatingHwStatus\n",
    "        global fanHwStatus\n",
    "        global offHwStatus\n",
    "\n",
    "\n",
    "        #print('coolingHwStatus: ', coolingHwStatus)\n",
    "        #print('heatingHwStatus: ', heatingHwStatus)\n",
    "        #print('fanHwStatus: ', fanHwStatus)\n",
    "        #print('offHwStatus: ', offHwStatus)\n",
    "    \n",
    "    \n",
    "        if fanMode =='H': #heating\n",
    "            fanHwStatus = 'Off'\n",
    "            offHwStatus = 'Off'\n",
    "            #turn off the other pins incase they were already on\n",
    "            GPIO.output(cool_pin ,0)\n",
    "            GPIO.output(fan_pin ,0)\n",
    "            \n",
    "            #compare the temp and either keep running or turn off \n",
    "            if desiredTemp > hwTemp:\n",
    "                if heatingHwStatus != 'On':\n",
    "                    ThermoData.updateHwEvent('Heating Started')\n",
    "                    #print('Heating Started Event')\n",
    "                    \n",
    "                #ThermoData.updateHwEvent('Heating Started')\n",
    "                GPIO.output(heat_pin ,1)\n",
    "                heatingHwStatus = 'On'\n",
    "            if desiredTemp + 1 < hwTemp:\n",
    "                if heatingHwStatus != 'Off':\n",
    "                    ThermoData.updateHwEvent('Heating Stopped')\n",
    "                    #print('Heating stopped Event')\n",
    "                heatingHwStatus = 'Off'\n",
    "                GPIO.output(heat_pin ,0)\n",
    "\n",
    "        if fanMode =='C': #cooling\n",
    "            fanHwStatus = 'Off'\n",
    "            offHwStatus = 'Off'\n",
    "            #turn off the other pins incase they were already on\n",
    "            GPIO.output(heat_pin ,0)\n",
    "            GPIO.output(fan_pin ,0)\n",
    "            \n",
    "            #compare the temp and either keep running or turn off\n",
    "            if desiredTemp < hwTemp:\n",
    "                if coolingHwStatus != 'On':\n",
    "                    ThermoData.updateHwEvent('Cooling Started')\n",
    "                    #print('Cooling Started Event')\n",
    "                \n",
    "                GPIO.output(cool_pin ,1)\n",
    "                coolingHwStatus = 'On'\n",
    "            if desiredTemp - 1 > hwTemp:\n",
    "                if coolingHwStatus != 'Off':\n",
    "                    #print 'Cooling Off'\n",
    "                    ThermoData.updateHwEvent('Cooling Stopped')\n",
    "                coolingHwStatus = 'Off'\n",
    "                #print('Cooling Stopped Event')\n",
    "                GPIO.output(cool_pin ,0)\n",
    "\n",
    "        if fanMode =='F': #Fan\n",
    "            offHwStatus = 'Off'\n",
    "            #turn off the other pins incase they were already on\n",
    "            GPIO.output(cool_pin ,0)\n",
    "            GPIO.output(fan_pin ,0)\n",
    "            if fanHwStatus != 'On':\n",
    "                    #print 'Cooling on'\n",
    "                    ThermoData.updateHwEvent('Fan Started')\n",
    "                    #print('Fan Started Event')\n",
    "            #turn the fan on\n",
    "            fanHwStatus = 'On'\n",
    "            GPIO.output(fan_pin ,1)\n",
    "\n",
    "        if fanMode =='A': #Auto\n",
    "            pass\n",
    "\n",
    "        if fanMode =='O': #Off\n",
    "            fanHwStatus = 'Off'\n",
    "            coolingHwStatus = 'Off'\n",
    "            heatingHwStatus = 'Off'\n",
    "            \n",
    "            if offHwStatus != 'On':\n",
    "                ThermoData.updateHwEvent('System Stopped')\n",
    "                #print('System Off Event')\n",
    "            offHwStatus = 'On'\n",
    "            shutOffHVAC()\n",
    "            \n",
    "            \n",
    "    except: \n",
    "        ThermoHardwareLogger.exception('Exception Occurred in ThermoHardware controlHVAC')\n",
    "        \n",
    "def shutOffHVAC():\n",
    "    try:\n",
    "        GPIO.output(heat_pin ,0)\n",
    "        GPIO.output(cool_pin ,0)\n",
    "        GPIO.output(fan_pin ,0)\n",
    "        \n",
    "\n",
    "    except:\n",
    "       ThermoHardwareLogger.exception('Exception Occurred in ThermoHardware shutOffHVAC')"
   ]
  },
  {
   "cell_type": "code",
   "execution_count": null,
   "metadata": {
    "collapsed": false,
    "scrolled": true
   },
   "outputs": [],
   "source": [
    "def mainHardwareLoop():\n",
    "    ThermoHardwareLogger.info('200: Starting as loop')\n",
    "    while True:\n",
    "        try:\n",
    "            hwHumidity, hwTemp = getHwInfo()\n",
    "            fanMode, desTemp = getDBInfo()\n",
    "            fanMode = str(fanMode)\n",
    "            writeTempHumid(hwTemp,hwHumidity)\n",
    "            #print(desTemp,hwTemp,fanMode)\n",
    "            controlHVAC(desTemp,hwTemp,fanMode)\n",
    "\n",
    "            #print 'Humidity:', hwHumidity\n",
    "            #print 'Temp:', hwTemp\n",
    "            #print 'Fan Mode:',fanMode.encode(\"ascii\")\n",
    "            #print 'Desired Temp:', desTemp\n",
    "\n",
    "            time.sleep(refreshCycle) # delay for 10 sec to try and avoid db locks. May be able to handle this in the ThermoData module. \n",
    "        except:\n",
    "            ThermoHardwareLogger.exception('Exception Occurred executing the main loop')\n",
    "            ThermoHardwareLogger.info('400: Cleanup GPIO')\n",
    "            GPIO.cleanup()\n",
    "            ThermoHardwareLogger.info('401: Thermostat Hardware is ending')\n",
    "            break\n",
    "            \n",
    "def mainHardwareIteration():\n",
    "    try:\n",
    "        hwHumidity, hwTemp = getHwInfo()\n",
    "        fanMode, desTemp = getDBInfo()\n",
    "        fanMode = str(fanMode)\n",
    "        writeTempHumid(hwTemp,hwHumidity)\n",
    "        #print(desTemp,hwTemp,fanMode)\n",
    "        controlHVAC(desTemp,hwTemp,fanMode)\n",
    "\n",
    "    except:\n",
    "        ThermoHardwareLogger.exception('Exception Occurred executing the main loop')\n",
    "        ThermoHardwareLogger.info('400: Cleanup GPIO')\n",
    "        GPIO.cleanup()\n",
    "        ThermoHardwareLogger.info('401: Thermostat Hardware is ending')\n",
    "        \n",
    "if __name__ == '__main__':\n",
    "    args = sys.argv[1:]\n",
    "    if 'asLoop' in args:\n",
    "        mainHardwareLoop()\n",
    "    if 'asIteration' in args:\n",
    "        mainHardwareIteration()\n",
    "    else:\n",
    "        print'''\n",
    "        ThermoHardware cmd line interface can be called with \n",
    "        the following options using sudo:\n",
    "        - sudo python ThermoHardware.py asLoop - to run the hardware module as an infinite loop. Be warned this has a memory leak.  \n",
    "        - - sudo python ThermoHardware.py asIteration - to run the hardware module as an a single iteration.\n",
    "        '''"
   ]
  },
  {
   "cell_type": "markdown",
   "metadata": {},
   "source": [
    "###Development"
   ]
  },
  {
   "cell_type": "code",
   "execution_count": null,
   "metadata": {
    "collapsed": true,
    "scrolled": false
   },
   "outputs": [],
   "source": [
    "#rtQuery = ThermoData.getRealtimeData() "
   ]
  },
  {
   "cell_type": "code",
   "execution_count": null,
   "metadata": {
    "collapsed": false,
    "scrolled": false
   },
   "outputs": [],
   "source": [
    "#dir(rtQuery)\n",
    "#rtQuery.rt_fanmode"
   ]
  },
  {
   "cell_type": "code",
   "execution_count": null,
   "metadata": {
    "collapsed": false,
    "scrolled": true
   },
   "outputs": [],
   "source": [
    "#fanMode, desTemp = getDBInfo()\n",
    "#print fanMode, desTemp"
   ]
  },
  {
   "cell_type": "code",
   "execution_count": null,
   "metadata": {
    "collapsed": false
   },
   "outputs": [],
   "source": [
    "#GPIO.cleanup()"
   ]
  },
  {
   "cell_type": "code",
   "execution_count": null,
   "metadata": {
    "collapsed": false
   },
   "outputs": [],
   "source": [
    "#s = 'started'\n",
    "#'start' in s"
   ]
  }
 ],
 "metadata": {
  "kernelspec": {
   "display_name": "Python 2",
   "language": "python",
   "name": "python2"
  },
  "language_info": {
   "codemirror_mode": {
    "name": "ipython",
    "version": 2
   },
   "file_extension": ".py",
   "mimetype": "text/x-python",
   "name": "python",
   "nbconvert_exporter": "python",
   "pygments_lexer": "ipython2",
   "version": "2.7.3"
  }
 },
 "nbformat": 4,
 "nbformat_minor": 0
}
