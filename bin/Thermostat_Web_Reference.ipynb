{
 "cells": [
  {
   "cell_type": "markdown",
   "metadata": {},
   "source": [
    "# Thermostat Web Reference\n",
    "\n",
    "## 1. Description\n",
    "The purpose of this notebook is to support a web based application and interface to control HVAC equipment also known as a thermostat. This runs on a raspberry pi b+ using DJANGO. \n",
    "\n",
    "## 2. Features\n",
    "- This will be the reference for building the modules that make up the thermostat application. \n",
    "\n",
    "## 3. The Build\n",
    "The pi does need the environment variable DJANGO_SETTINGS_MODULE set to = thermostat.settings for importing the settings when starting up.      \n",
    "\n",
    "\n",
    "## 4. Issues\n",
    "- This will be consolidated with the UI portion at some point. "
   ]
  },
  {
   "cell_type": "markdown",
   "metadata": {},
   "source": [
    "###Libraries to use"
   ]
  },
  {
   "cell_type": "code",
   "execution_count": 1,
   "metadata": {
    "collapsed": false
   },
   "outputs": [],
   "source": [
    "import os \n",
    "import django"
   ]
  },
  {
   "cell_type": "markdown",
   "metadata": {},
   "source": [
    "###Setup and configuration\n",
    "-  DJANGO needs ot be setup in order to be able to use the applications files. It needs to be called from inside the app directory where manage.py lives.   "
   ]
  },
  {
   "cell_type": "code",
   "execution_count": 2,
   "metadata": {
    "collapsed": true
   },
   "outputs": [],
   "source": [
    "os.chdir('/thermostat/web/code/')\n",
    "django.setup()"
   ]
  },
  {
   "cell_type": "markdown",
   "metadata": {},
   "source": [
    "##Usable Code\n",
    "- Import a model "
   ]
  },
  {
   "cell_type": "code",
   "execution_count": 2,
   "metadata": {
    "collapsed": false
   },
   "outputs": [
    {
     "ename": "ImportError",
     "evalue": "No module named ThermoApp.models",
     "output_type": "error",
     "traceback": [
      "\u001b[1;31m---------------------------------------------------------------------------\u001b[0m",
      "\u001b[1;31mImportError\u001b[0m                               Traceback (most recent call last)",
      "\u001b[1;32m<ipython-input-2-b92d6e71e937>\u001b[0m in \u001b[0;36m<module>\u001b[1;34m()\u001b[0m\n\u001b[1;32m----> 1\u001b[1;33m \u001b[1;32mfrom\u001b[0m \u001b[0mThermoApp\u001b[0m\u001b[1;33m.\u001b[0m\u001b[0mmodels\u001b[0m \u001b[1;32mimport\u001b[0m \u001b[0mRealtimeData\u001b[0m \u001b[1;32mas\u001b[0m \u001b[0mRTdata\u001b[0m\u001b[1;33m\u001b[0m\u001b[0m\n\u001b[0m",
      "\u001b[1;31mImportError\u001b[0m: No module named ThermoApp.models"
     ]
    }
   ],
   "source": [
    "from ThermoApp.models import RealtimeData as RTdata"
   ]
  },
  {
   "cell_type": "markdown",
   "metadata": {},
   "source": [
    "- and add a record to the db"
   ]
  },
  {
   "cell_type": "code",
   "execution_count": null,
   "metadata": {
    "collapsed": false
   },
   "outputs": [],
   "source": [
    "d = RTdata(rt_currenttemp=22,rt_fanmode='C')\n",
    "d.save()\n",
    "print 'Record save complete'"
   ]
  },
  {
   "cell_type": "markdown",
   "metadata": {},
   "source": [
    "####Ways to lookup data. \n",
    "- lookup  a record by primary key and assign its values to names. Use this if you know theres only going tobe one record to get. "
   ]
  },
  {
   "cell_type": "code",
   "execution_count": 1,
   "metadata": {
    "collapsed": false
   },
   "outputs": [
    {
     "ename": "NameError",
     "evalue": "name 'RTdata' is not defined",
     "output_type": "error",
     "traceback": [
      "\u001b[1;31m---------------------------------------------------------------------------\u001b[0m",
      "\u001b[1;31mNameError\u001b[0m                                 Traceback (most recent call last)",
      "\u001b[1;32m<ipython-input-1-1bb5bed92506>\u001b[0m in \u001b[0;36m<module>\u001b[1;34m()\u001b[0m\n\u001b[1;32m----> 1\u001b[1;33m \u001b[0mdataQuery\u001b[0m \u001b[1;33m=\u001b[0m \u001b[0mRTdata\u001b[0m\u001b[1;33m.\u001b[0m\u001b[0mobjects\u001b[0m\u001b[1;33m.\u001b[0m\u001b[0mget\u001b[0m\u001b[1;33m(\u001b[0m\u001b[0mpk\u001b[0m\u001b[1;33m=\u001b[0m\u001b[1;36m1\u001b[0m\u001b[1;33m)\u001b[0m\u001b[1;33m\u001b[0m\u001b[0m\n\u001b[0m\u001b[0;32m      2\u001b[0m \u001b[1;31m#print(dir(entry))\u001b[0m\u001b[1;33m\u001b[0m\u001b[1;33m\u001b[0m\u001b[0m\n\u001b[0;32m      3\u001b[0m \u001b[1;31m#et_datetime = entry.rt_datetime\u001b[0m\u001b[1;33m\u001b[0m\u001b[1;33m\u001b[0m\u001b[0m\n\u001b[0;32m      4\u001b[0m \u001b[1;33m\u001b[0m\u001b[0m\n\u001b[0;32m      5\u001b[0m \u001b[1;32mprint\u001b[0m\u001b[1;33m(\u001b[0m\u001b[0mentry\u001b[0m\u001b[1;33m.\u001b[0m\u001b[0mrt_currenttemp\u001b[0m\u001b[1;33m)\u001b[0m\u001b[1;33m\u001b[0m\u001b[0m\n",
      "\u001b[1;31mNameError\u001b[0m: name 'RTdata' is not defined"
     ]
    }
   ],
   "source": [
    "dataQuery = RTdata.objects.get(pk=1)\n",
    "#print(dir(entry))\n",
    "#et_datetime = entry.rt_datetime\n",
    "\n",
    "print(entry.rt_currenttemp)\n",
    "print(entry.rt_datetime)\n",
    "print(entry.rt_destemp)\n",
    "print(entry.rt_fanmode)\n",
    "print(entry.rt_forecast)\n",
    "print(entry.rt_humidity)\n",
    "print(entry.rt_outsidehumidity)\n",
    "print(entry.rt_outsidetemp)\n",
    "print(entry.rt_runtime)\n",
    "print(entry.rt_uptime)"
   ]
  },
  {
   "cell_type": "markdown",
   "metadata": {},
   "source": [
    "- lookup all the entries in a database using a QuerySet. Use this if you know ther could be more than 1 record to return. "
   ]
  },
  {
   "cell_type": "code",
   "execution_count": 9,
   "metadata": {
    "collapsed": false
   },
   "outputs": [
    {
     "name": "stdout",
     "output_type": "stream",
     "text": [
      "[{'rt_datetime': datetime.datetime(2015, 6, 12, 3, 50, 20, 879087, tzinfo=<UTC>)}]\n",
      "[{'rt_currenttemp': 20}]\n"
     ]
    }
   ],
   "source": [
    "all_entries = RTdata.objects.all().filter(pk=1)\n",
    "\n",
    "#print(dir(all_entries.values()))\n",
    "\n",
    "#print(all_entries.values())\n",
    "print(all_entries.values('rt_datetime'))\n",
    "print(all_entries.values('rt_currenttemp'))"
   ]
  },
  {
   "cell_type": "markdown",
   "metadata": {},
   "source": [
    "### Modify the data and save it\n",
    "- this example uses the single object (entry) returned from the queryset.get method"
   ]
  },
  {
   "cell_type": "code",
   "execution_count": 15,
   "metadata": {
    "collapsed": true
   },
   "outputs": [],
   "source": [
    "entry.rt_currenttemp = 22\n",
    "entry.save()"
   ]
  }
 ],
 "metadata": {
  "kernelspec": {
   "display_name": "Python 2",
   "language": "python",
   "name": "python2"
  },
  "language_info": {
   "codemirror_mode": {
    "name": "ipython",
    "version": 2
   },
   "file_extension": ".py",
   "mimetype": "text/x-python",
   "name": "python",
   "nbconvert_exporter": "python",
   "pygments_lexer": "ipython2",
   "version": "2.7.3"
  }
 },
 "nbformat": 4,
 "nbformat_minor": 0
}
