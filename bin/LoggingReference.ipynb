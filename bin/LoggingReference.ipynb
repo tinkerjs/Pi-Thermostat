{
 "cells": [
  {
   "cell_type": "code",
   "execution_count": 2,
   "metadata": {
    "collapsed": false
   },
   "outputs": [
    {
     "name": "stderr",
     "output_type": "stream",
     "text": [
      "INFO:ThermoHardware:100: Thermostat Hardware is starting\n"
     ]
    }
   ],
   "source": [
    "import os\n",
    "import logging\n",
    "\n",
    "logDir = os.path.join('/','thermostat','logs')\n",
    "firstlogger = logging.getLogger('ThermoHardware')\n",
    "fhandler = logging.FileHandler(filename=os.path.join(logDir,'test.log'), mode='a')\n",
    "formatter = logging.Formatter('%(asctime)s - %(name)s - %(levelname)s - %(message)s')\n",
    "fhandler.setFormatter(formatter)\n",
    "firstlogger.addHandler(fhandler)\n",
    "firstlogger.setLevel(logging.INFO)\n",
    "\n",
    "firstlogger.info('100: Thermostat Hardware is starting')\n"
   ]
  }
 ],
 "metadata": {
  "kernelspec": {
   "display_name": "Python 2",
   "language": "python",
   "name": "python2"
  }
 },
 "nbformat": 4,
 "nbformat_minor": 0
}
