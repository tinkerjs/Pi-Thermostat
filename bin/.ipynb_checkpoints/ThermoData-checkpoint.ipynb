{
 "cells": [
  {
   "cell_type": "markdown",
   "metadata": {},
   "source": [
    "# Thermostat Data Module\n",
    "\n",
    "## Description\n",
    "- The purpose of this notebook is to support a database interface to control HVAC equipment using a custom built thermostat. This runs on a raspberry pi 2 using DJANGO. This will be the code that handles the database interface for the thermostat application. \n",
    "\n",
    "\n",
    "## The Build\n",
    "- The Pi needs to be configured to launch the python app at startup. Lets assume that our python app is called thermo.py. In order to do this: \n",
    "    - create the file named /etc/xdg/autostart/startup.desktop\n",
    "    - put the following contents into it\n",
    "        [Desktop Entry]\n",
    "        Type=Application\n",
    "        Name=LXPolKit\n",
    "        Exec=/startup\n",
    "    - create the file /startup\n",
    "    - put the following contents into it\n",
    "    \n",
    "<code>#!/bin/bash\n",
    "sudo python /thermostat/bin/ThermoGui.py &\n",
    "sudo /thermostat/bin/djrunserver &\n",
    "sudo /thermostat/bin/ipythonnotebook & </code>\n",
    "        \n",
    "        \n",
    "- Install python and the supporting libraires:\n",
    "    - sudo apt-get install python\n",
    "    - sudo apt-get intall pip\n",
    "    - Python tk (already inlcuded in 2.7)\n",
    "        - sudo apt-get install python-tk\n",
    "    - Python image library\n",
    "        - pip install PIL\n",
    "    - Python Time Zone\n",
    "        - pip install pytz   \n",
    "- The pi does need the environment variable DJANGO_SETTINGS_MODULE set to = thermostat.settings for importing the settings when starting up. This is handled during the import section. \n",
    "- The database uses the embedded sqlite db that comes with DJANGO.  \n",
    "- There is a cron job that is executed every hour that is divisible by 4 to retrieve the weather forcast using the ThermoData moule from a cmd line. \n",
    "    - The job is added to the sudo cronttab by running <code>sudo crontab -e</code>\n",
    "    - the cron job is: 01 */4 * * * /thermostat/bin/getWeatherForecast\n",
    "    - The code for the getWeatherForeCast is\n",
    "    \n",
    "<code>#! /bin/bash\n",
    "cd /thermostat/bin/\n",
    "python ThermoData.py getWeatherForecast\n",
    "echo \"getWeatherForcast script ran: $(date)\" >> /thermostat/logs/forecast_cron.log</code>\n",
    "\n",
    "- Wifi\n",
    "    - This PI uses an Airlink101 Wireless N USB adapter. To configure follow these steps:\n",
    "        - Configure the adapter using the GUI config tool in the raspbian os.\n",
    "        - Add \"scan_ssid=1\" to the /etc/wpa_supplicant/wpa_supplicant.conf file in the \"network\" section if your SSID is not broadcast. \n",
    "\n",
    "## Features\n",
    "- Allow for methods to add, update and retrieve data.\n",
    "- Allow for querying data\n",
    "- Data retention and managment. \n",
    "- log file cleanup\n",
    "- cmd line interface\n",
    "\n",
    "## Issues\n",
    "- In the hardware module ive put in a delay of 20 seconds to try and avoid running into scenarios where I can not write to the DB becuase it is locked. Need to handle this in the data module itself. \n",
    "- When changing the fan mode from the UI it causes the desired temp to jump to an old value. "
   ]
  },
  {
   "cell_type": "markdown",
   "metadata": {},
   "source": [
    "## 5. The Code and methods\n",
    "- The following section contains the code that is used to make up the data interface. It is organized into sections that define configuration, modules that need to be imported and its own modules. \n",
    "\n",
    "### Modules to import"
   ]
  },
  {
   "cell_type": "code",
   "execution_count": null,
   "metadata": {
    "collapsed": false
   },
   "outputs": [],
   "source": [
    "import os \n",
    "import sys\n",
    "import logging\n",
    "import django\n",
    "from django.utils import timezone as djTimeZone\n",
    "from pytz import timezone as pytzTimeZone \n",
    "import datetime\n",
    "import urllib2\n",
    "import json\n",
    "\n",
    "sys.path.append('/thermostat/web/code/') #so we can import django modules  \n",
    "\n",
    "\n",
    "#these are the models that are defined for the database\n",
    "os.chdir('/thermostat/web/code/')\n",
    "##this one is so critical. Use this rather than exporting it from the shell\n",
    "os.environ.setdefault('DJANGO_SETTINGS_MODULE', 'thermostat.settings') \n",
    "\n",
    "# DJANGO needs to be setup in order to be able to use the applications files. \n",
    "# It needs to be called from inside the app directory where manage.py lives \n",
    "# '/thermostat/web/code/'.\n",
    "django.setup()\n",
    "\n",
    "#these are the DJANGO data models that were created for the project. \n",
    "from ThermoApp.models import RealtimeData as RTdata\n",
    "from ThermoApp.models import ForecastData as FCdata\n",
    "from ThermoApp.models import HistoricData as HSdata"
   ]
  },
  {
   "cell_type": "markdown",
   "metadata": {},
   "source": [
    "### Configuration"
   ]
  },
  {
   "cell_type": "code",
   "execution_count": null,
   "metadata": {
    "collapsed": false
   },
   "outputs": [],
   "source": [
    "#setup logging\n",
    "logDir = os.path.join('/','thermostat','logs')\n",
    "thermoDataLogger = logging.getLogger('ThermoData')\n",
    "fhandler = logging.FileHandler(filename=os.path.join(logDir,'thermodata.log'), mode='a')\n",
    "formatter = logging.Formatter('%(asctime)s - %(name)s - %(levelname)s - %(message)s')\n",
    "fhandler.setFormatter(formatter)\n",
    "thermoDataLogger.addHandler(fhandler)\n",
    "thermoDataLogger.setLevel(logging.INFO)\n",
    "\n",
    "thermoDataLogger.info('100: Thermostat Data is starting')\n",
    "\n",
    "central = pytzTimeZone('US/Central')\n",
    "\n",
    "thermoDataLogger.info('101: Configuration is complete')"
   ]
  },
  {
   "cell_type": "markdown",
   "metadata": {},
   "source": [
    "### Work with  Data\n",
    "- So far these methods dont really do anything beyond the DJANGO native model API. At some point these will be customized to offer validation and error handling for the application specific needs.\n",
    "\n",
    "#### Get real time data\n",
    "- this will only return the first and assumedly only record in the real time table.  "
   ]
  },
  {
   "cell_type": "code",
   "execution_count": null,
   "metadata": {
    "collapsed": false
   },
   "outputs": [],
   "source": [
    "def getRealtimeData():\n",
    "    try: \n",
    "        dataQuery = RTdata.objects.get(pk=1)\n",
    "        return dataQuery\n",
    "    except:\n",
    "        thermoDataLogger.exception('Exception Occurred in ThermoData getRealtimeData()')"
   ]
  },
  {
   "cell_type": "markdown",
   "metadata": {},
   "source": [
    "#### Update real time data\n",
    "- This will take whatever data i have updated and save it to the db. It will also update the rt_date time each time it is called to keep the time up to date in the DB. "
   ]
  },
  {
   "cell_type": "code",
   "execution_count": null,
   "metadata": {
    "collapsed": false
   },
   "outputs": [],
   "source": [
    "def updateRealTimeData(queryset):\n",
    "    try: \n",
    "        queryset.rt_datetime = djTimeZone.now()\n",
    "        queryset.save()\n",
    "    except:\n",
    "        thermoDataLogger.exception('Exception Occurred in ThermoData updateRealtimeData().')"
   ]
  },
  {
   "cell_type": "markdown",
   "metadata": {},
   "source": [
    "#### Get Forecast Data\n",
    "- this will retreive all the records from the forecast data table.  "
   ]
  },
  {
   "cell_type": "code",
   "execution_count": null,
   "metadata": {
    "collapsed": true
   },
   "outputs": [],
   "source": [
    "def getForecastData():\n",
    "    try: \n",
    "        forecastQuery = FCdata.objects.get(pk=1)\n",
    "        return forecastQuery\n",
    "    except:\n",
    "        thermoDataLogger.exception('Exception Occurred in ThermoData getForecastData()')"
   ]
  },
  {
   "cell_type": "markdown",
   "metadata": {},
   "source": [
    "#### Update Forecast Data\n",
    "- this will update all the records from the forecast data table.  "
   ]
  },
  {
   "cell_type": "code",
   "execution_count": null,
   "metadata": {
    "collapsed": true
   },
   "outputs": [],
   "source": [
    "def updateForecastData(queryset):\n",
    "    try: \n",
    "        queryset.fc_datetime = djTimeZone.now()\n",
    "        queryset.save()\n",
    "    except:\n",
    "        thermoDataLogger.exception('Exception Occurred in ThermoData updateForecastData().')"
   ]
  },
  {
   "cell_type": "markdown",
   "metadata": {},
   "source": [
    "#### Get the weather forceast and information\n",
    "This will be used to make webservice calls to weather underground to get weather data and store in the database to be used  throughout the application. "
   ]
  },
  {
   "cell_type": "code",
   "execution_count": 1,
   "metadata": {
    "collapsed": false
   },
   "outputs": [],
   "source": [
    "def getWeatherForecast():\n",
    "    try: \n",
    "        #get the current conditions\n",
    "        apiId = '4d5dbde505034b47'\n",
    "        state= 'TX'\n",
    "        city = 'Frisco'\n",
    "        currCondFile = urllib2.urlopen('http://api.wunderground.com/api/{2}/geolookup/conditions/q/{0}/{1}.json'.format(state,city,apiId))\n",
    "        currCondJson = currCondFile.read()\n",
    "        parsedCurrCondJson = json.loads(currCondJson)\n",
    "\n",
    "        #current conditions by element\n",
    "        currPrecipitation = parsedCurrCondJson['current_observation']['precip_today_string']\n",
    "        currLocation = parsedCurrCondJson['location']['city']\n",
    "        currTemp_f = parsedCurrCondJson['current_observation']['temp_f']\n",
    "        currRealtiveHumidity = parsedCurrCondJson['current_observation']['relative_humidity']\n",
    "        currCondFile.close()\n",
    "\n",
    "        #Get todays forecast\n",
    "        tdForecastFile = urllib2.urlopen('http://api.wunderground.com/api/4d5dbde505034b47/forecast/q/TX/Frisco.json')\n",
    "        tdForecastJson = tdForecastFile.read()\n",
    "        tdForecastJsonParsed = json.loads(tdForecastJson)\n",
    "        #uses simple forecast call to get data for the next 4 days\n",
    "        fcList = []\n",
    "        for day in tdForecastJsonParsed['forecast']['simpleforecast']['forecastday']:\n",
    "            fcConditions = day['conditions']\n",
    "            fcDay = day['date']['weekday_short']\n",
    "            fcDayHigh = day['high']['fahrenheit']\n",
    "            fcDayLow = day['low']['fahrenheit']\n",
    "            fcList.append(fcDay.encode('ascii') + ' ' + fcDayHigh.encode('ascii') +'/'+ fcDayLow.encode('ascii') + ' ' + fcConditions.encode('ascii'))\n",
    "\n",
    "        #print '\\n'.join(fcList)\n",
    "\n",
    "        tdForecastFile.close()\n",
    "\n",
    "        fcQuery = getForecastData()\n",
    "        fcQuery.fc_outsidetemp = currTemp_f\n",
    "        fcQuery.fc_outsidehumidity = currRealtiveHumidity.strip('%')\n",
    "        fcQuery.fc_4dforecast = '{0}'.format('\\n'.join(fcList))\n",
    "        updateForecastData(fcQuery)\n",
    "\n",
    "        return parsedCurrCondJson\n",
    "\n",
    "    #tdForecastJsonParsed = getWeatherForecast()\n",
    "    except:\n",
    "         thermoDataLogger.exception('Exception Occurred in ThermoData getWeatherForecast().')"
   ]
  },
  {
   "cell_type": "markdown",
   "metadata": {
    "collapsed": false
   },
   "source": [
    "#### Update events to the DB \n",
    "- this will create a hardware event entry and update the end time of the event when it has completed. Event descriptions can be:\n",
    "    - coolingStart, coolingStop - when the cooling system is turned on/off\n",
    "    - heatingStart, heatingStop - when the heating system is turned on/off\n",
    "    - fanStart, fanStop - when the fan is turned on/off"
   ]
  },
  {
   "cell_type": "code",
   "execution_count": null,
   "metadata": {
    "collapsed": false
   },
   "outputs": [],
   "source": [
    "def updateHwEvent(eventDesc):\n",
    "    if 'Start' in eventDesc:\n",
    "        #print 'event start: %s' %eventDesc\n",
    "        hsRtQuery = getRealtimeData()\n",
    "        hsFcQuery = getForecastData()\n",
    "        eventStartTime = djTimeZone.now()\n",
    "        startEventDB = HSdata(hs_eventdesc = eventDesc,\n",
    "                              hs_eventdatetime = eventStartTime, \n",
    "                              hs_currenttemp = hsRtQuery.rt_currenttemp, \n",
    "                              hs_destemp = hsRtQuery.rt_destemp, \n",
    "                              hs_humidity = hsRtQuery.rt_humidity, \n",
    "                              hs_fanmode = hsRtQuery.rt_fanmode, \n",
    "                              hs_outsidetemp = hsFcQuery.fc_outsidetemp, \n",
    "                              hs_outsidehumidity = hsFcQuery.fc_outsidehumidity, \n",
    "                              hs_forecast = hsFcQuery.fc_4dforecast)\n",
    "        startEventDB.save()\n",
    "    if 'Stop' in eventDesc:\n",
    "        #print 'event stop: %s' %eventDesc\n",
    "        hsRtQuery = getRealtimeData()\n",
    "        hsFcQuery = getForecastData()\n",
    "        eventStopTime = djTimeZone.now()\n",
    "        stopEventDB = HSdata(hs_eventdesc = eventDesc,\n",
    "                              hs_eventdatetime = eventStopTime, \n",
    "                              hs_currenttemp = hsRtQuery.rt_currenttemp, \n",
    "                              hs_destemp = hsRtQuery.rt_destemp, \n",
    "                              hs_humidity = hsRtQuery.rt_humidity, \n",
    "                              hs_fanmode = hsRtQuery.rt_fanmode, \n",
    "                              hs_outsidetemp = hsFcQuery.fc_outsidetemp, \n",
    "                              hs_outsidehumidity = hsFcQuery.fc_outsidehumidity, \n",
    "                              hs_forecast = hsFcQuery.fc_4dforecast)\n",
    "        stopEventDB.save()"
   ]
  },
  {
   "cell_type": "markdown",
   "metadata": {},
   "source": [
    "#### Command line application suppot and CRON\n",
    "This section will provide supporting code to allow the data module to be executed as a scipt for timed jobs by CRON or executed independently  "
   ]
  },
  {
   "cell_type": "code",
   "execution_count": null,
   "metadata": {
    "collapsed": false
   },
   "outputs": [],
   "source": [
    "if __name__ == '__main__':\n",
    "    args = sys.argv[1:]\n",
    "    if 'getWeatherForecast' in args:\n",
    "        print('Getting weather forecast')\n",
    "        getWeatherForecast()\n",
    "    else:\n",
    "        print '''\n",
    "        ThermoData cmd line interface can be called with \n",
    "        the following options using sudo:\n",
    "        - sudo python ThermoData.py getWeatherForecast - to get the \n",
    "          latest forecast data from weather underground. \n",
    "        - more to come...\n",
    "        '''"
   ]
  }
 ],
 "metadata": {
  "kernelspec": {
   "display_name": "Python 3",
   "language": "python",
   "name": "python3"
  },
  "language_info": {
   "codemirror_mode": {
    "name": "ipython",
    "version": 3
   },
   "file_extension": ".py",
   "mimetype": "text/x-python",
   "name": "python",
   "nbconvert_exporter": "python",
   "pygments_lexer": "ipython3",
   "version": "3.4.0"
  }
 },
 "nbformat": 4,
 "nbformat_minor": 0
}
