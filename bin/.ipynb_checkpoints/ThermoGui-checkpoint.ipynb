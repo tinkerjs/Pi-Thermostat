{
 "cells": [
  {
   "cell_type": "markdown",
   "metadata": {},
   "source": [
    "# Thermostat GUI Module\n",
    "\n",
    "## Description\n",
    "- The purpose of this application is to support a graphical user interface used to provide an easy to use interface for manipulating the thermostat application. This runs on a raspberry pi b+ using a 2.8\" touch screen. \n",
    "\n",
    "## Features\n",
    "- Display values\n",
    "- Accept user inputs\n",
    "- Take actions based on inputs, such as calling the data interface or updating the display. \n",
    "\n",
    "## The build\n",
    "- Install python and the supporting libraires:\n",
    "\n",
    "\n",
    "## Issues\n",
    "- TBD\n",
    "\n",
    "## The Code and methods\n",
    "- The following section contains the code that is used to make up the data interface. It is organized into sections that define configuration, modules that need to be imported and its own modules. \n",
    "\n",
    "### Libraries to import"
   ]
  },
  {
   "cell_type": "code",
   "execution_count": 1,
   "metadata": {
    "collapsed": false
   },
   "outputs": [
    {
     "name": "stderr",
     "output_type": "stream",
     "text": [
      "/usr/local/lib/python2.7/dist-packages/pytz/__init__.py:29: UserWarning: Module ttk was already imported from /usr/lib/python2.7/lib-tk/ttk.pyc, but /usr/local/lib/python2.7/dist-packages is being added to sys.path\n",
      "  from pkg_resources import resource_stream\n",
      "INFO:ThermoData:100: Thermostat Data is starting\n",
      "INFO:ThermoData:101: Configuration is complete\n"
     ]
    }
   ],
   "source": [
    "from Tkinter import * #import the tkinter GUI library\n",
    "import tkFont\n",
    "import ttk #import the tkinter GUI library\n",
    "#from PIL import Image, ImageTk\n",
    "import time #import the time module\n",
    "import os\n",
    "import pytz\n",
    "from pytz import timezone\n",
    "from datetime import datetime\n",
    "import ThermoData"
   ]
  },
  {
   "cell_type": "markdown",
   "metadata": {},
   "source": [
    "### Configuration\n",
    "-  Some UI specific configuration items and names to create. "
   ]
  },
  {
   "cell_type": "code",
   "execution_count": 2,
   "metadata": {
    "collapsed": false
   },
   "outputs": [],
   "source": [
    "central = timezone('US/Central')\n",
    "\n",
    "windowHeight = 240\n",
    "windowWidth = 320"
   ]
  },
  {
   "cell_type": "markdown",
   "metadata": {},
   "source": [
    "### The UI code"
   ]
  },
  {
   "cell_type": "code",
   "execution_count": 12,
   "metadata": {
    "collapsed": false,
    "scrolled": true
   },
   "outputs": [],
   "source": [
    "####- The main elements (root window, title and frames)\n",
    "rootWindow = Tk()\n",
    "rootWindow.maxsize(width=windowWidth, height=windowHeight)\n",
    "rootWindow.minsize(width=windowWidth, height=windowHeight)\n",
    "rootWindow.title('Crib Connected Thermostat')\n",
    "rootWindow.config(cursor=\"none\")\n",
    "rootWindow.resizable(0,0)\n",
    "rootWindow.overrideredirect(1)\n",
    "\n",
    "#rootWindow.columnconfigure(0, weight=1)\n",
    "#rootWindow.columnconfigure(1, weight=1)\n",
    "#rootWindow.columnconfigure(2, weight=1)\n",
    "#rootWindow.columnconfigure(3, weight=1)\n",
    "#rootWindow.rowconfigure(0, weight=1)05\n",
    "#rootWindow.rowconfigure(1, weight=1)\n",
    "#rootWindow.rowconfigure(2, weight=1)\n",
    "#rootWindow.rowconfigure(3, weight=1)\n",
    "\n",
    "\n",
    "\n",
    "contentFrame = ttk.Frame(rootWindow, padding=(5,5,5,5))\n",
    "contentFrame.config(cursor=\"none\") \n",
    "contentFrame.columnconfigure(0, weight=1)\n",
    "contentFrame.columnconfigure(1, weight=1)\n",
    "contentFrame.columnconfigure(2, weight=1)\n",
    "contentFrame.columnconfigure(3, weight=1)\n",
    "#contentFrame.columnconfigure(4, weight=1)\n",
    "#contentFrame.columnconfigure(5, weight=1)\n",
    "#contentFrame.columnconfigure(6, weight=1)\n",
    "contentFrame.rowconfigure(0, weight=1)\n",
    "contentFrame.rowconfigure(1, weight=1)\n",
    "contentFrame.rowconfigure(2, weight=1)\n",
    "#contentFrame.rowconfigure(3, weight=1)\n",
    "\n",
    "manualFrame = ttk.Frame(rootWindow, padding=(1,1,1,1))\n",
    "manualFrame.config(cursor=\"none\") \n",
    "#manualFrame = ttk.Frame(rootWindow, borderwidth=5, relief='raised',width=400,height=200)\n",
    "#mainFrame = ttk.Frame(content, borderwidth=1,width=400,height=200)\n",
    "#mainFrame = ttk.Frame(rootWindow,padding='20 20 20 20')\n",
    "#subFrame = ttk.Frame(rootWindow,padding='20 20 20 20').grid(column=1, row=0, sticky=(N, W, E, S))\n",
    "\n",
    "desTempVal = DoubleVar() # a varibale to hold the desired temperature\n",
    "fanMode = StringVar() # a variable to hold the fan mode.\n",
    "currTempVal = DoubleVar() # a variable to hold the current temperature\n",
    "currHumidVal = DoubleVar() # a variable to hold the current humidity\n",
    "currentDate = StringVar() # a variable to hold the current date.\n",
    "currentTime = StringVar() # a variable to hold the current time.\n",
    "airSelectionVal  = IntVar() # a variable to hold the current air selection.\n",
    "#currentForecast  = StringVar() # a variable to hold the current forecast.\n",
    "outsideTempVal  = IntVar() # a variable to hold the outside temp.\n",
    "outsideHumidVal  = IntVar() # a variable to hold the outside humidity.\n",
    "\n",
    "\n",
    "def getDBInformation():\n",
    "    #retrieves the data from the DB and sets the values ot the UI components\n",
    "    fcgQuery = ThermoData.getForecastData()\n",
    "    currentForecast = (fcgQuery.fc_4dforecast)\n",
    "    text_currentForecast.delete('1.0','5.0')\n",
    "    text_currentForecast.insert('1.0',currentForecast)\n",
    "    outsideTempVal.set(fcgQuery.fc_outsidetemp)\n",
    "    outsideHumidVal.set(fcgQuery.fc_outsidehumidity)\n",
    "    \n",
    "    rtgQuery = ThermoData.getRealtimeData()\n",
    "    currTempVal.set(rtgQuery.rt_currenttemp)\n",
    "    currHumidVal.set(rtgQuery.rt_humidity)\n",
    "    desTempVal.set(rtgQuery.rt_destemp)\n",
    "    dbFanMode = rtgQuery.rt_fanmode\n",
    "    if dbFanMode == 'H':\n",
    "        airSelectionVal.set(0)\n",
    "    if dbFanMode == 'C':\n",
    "        airSelectionVal.set(1)\n",
    "    if dbFanMode == 'F':\n",
    "        airSelectionVal.set(2)\n",
    "    if dbFanMode == 'O':\n",
    "        airSelectionVal.set(3)\n",
    "    if dbFanMode == 'A':\n",
    "        airSelectionVal.set(4)\n",
    "    utcTimeValue=(rtgQuery.rt_datetime)\n",
    "    currentTimeValue = utcTimeValue.astimezone(central)\n",
    "    currentDate.set(currentTimeValue.strftime('%a %b %d %Y'))\n",
    "    currentTime.set(currentTimeValue.strftime('%I:%M %p'))\n",
    "    rootWindow.after(5000,getDBInformation)\n",
    "\n",
    "\n",
    "def updateDesTemp():\n",
    "    rtuQuery = ThermoData.getRealtimeData()\n",
    "    rtuQuery.rt_destemp = desTempVal.get()\n",
    "    ThermoData.updateRealTimeData(rtuQuery)\n",
    "    \n",
    "def setAirMode():\n",
    "    #print airSelectionVal.get()\n",
    "    rtgQuery = ThermoData.getRealtimeData()\n",
    "    if airSelectionVal.get() == 0:\n",
    "        rtgQuery.rt_fanmode ='H'\n",
    "        radio_airSelectionCool.configure(state='disabled')\n",
    "        radio_airSelectionFan.configure(state='disabled')\n",
    "    if airSelectionVal.get() == 1:\n",
    "        rtgQuery.rt_fanmode = 'C'\n",
    "        radio_airSelectionHeat.configure(state='disabled')\n",
    "        radio_airSelectionFan.configure(state='disabled')\n",
    "    if airSelectionVal.get() == 2:\n",
    "        rtgQuery.rt_fanmode = 'F'\n",
    "        radio_airSelectionHeat.configure(state='disabled')\n",
    "        radio_airSelectionCool.configure(state='disabled')\n",
    "    if airSelectionVal.get() == 3:\n",
    "        rtgQuery.rt_fanmode = 'O'\n",
    "        radio_airSelectionHeat.configure(state='normal')\n",
    "        radio_airSelectionCool.configure(state='normal')\n",
    "        radio_airSelectionFan.configure(state='normal')\n",
    "    if airSelectionVal.get() == 4:\n",
    "        rtGQuery.rt_fanmode = 'A'\n",
    "    ThermoData.updateRealTimeData(rtgQuery)\n",
    "    #print(airSelectionVal.get())\n",
    "\n",
    "def quitUi():\n",
    "    rootWindow.destroy()\n",
    "    \n",
    "def waitDelay():\n",
    "    pass\n",
    "    \n",
    "###Define UI stuff\n",
    "\n",
    "dTempFont = tkFont.Font(size=32)\n",
    "valuesFont = tkFont.Font(size=16)\n",
    "labelsFont = tkFont.Font(size=8)\n",
    "forecastFont = tkFont.Font(size=8)\n",
    "\n",
    "\n",
    "\n",
    "#Labels\n",
    "\n",
    "labelAnchor = 'center'\n",
    "label_currTemp = ttk.Label(contentFrame, text='Temp', font=labelsFont)\n",
    "label_currTempVal = ttk.Label(contentFrame, textvariable=currTempVal, font=valuesFont, anchor=labelAnchor) \n",
    "label_currHumid = ttk.Label(contentFrame, text='Humidity', font=labelsFont)\n",
    "label_currHumidVal = ttk.Label(contentFrame, textvariable=currHumidVal, font=valuesFont, anchor=labelAnchor) \n",
    "label_desiredTemp = ttk.Label(contentFrame, text='Desired', font=labelsFont)\n",
    "label_desiredTempVal = ttk.Label(contentFrame, textvariable=desTempVal, font=valuesFont, anchor=labelAnchor)\n",
    "label_currentTimeVal = ttk.Label(contentFrame, textvariable=currentTime, font=labelsFont, anchor=labelAnchor)\n",
    "label_currentDateVal = ttk.Label(contentFrame, textvariable=currentDate, font=labelsFont, anchor=labelAnchor)\n",
    "label_airSelection = ttk.Label(contentFrame, text='Air:')\n",
    "label_outsideTempVal = ttk.Label(contentFrame, textvariable=outsideTempVal, font=valuesFont, anchor=labelAnchor, foreground=\"blue\")\n",
    "label_outsideHumidVal = ttk.Label(contentFrame, textvariable=outsideHumidVal, font=valuesFont, anchor=labelAnchor, foreground=\"blue\")\n",
    "\n",
    "\n",
    "text_currentForecast = Text(contentFrame,width=5, height=4, wrap='none', font=forecastFont)\n",
    "\n",
    "#Buttons\n",
    "\n",
    "btnWidth = 4\n",
    "\n",
    "#btnRefreshTemp = ttk.Button(contentFrame, text='Refresh', command=getDBTempHumid)\n",
    "btnQuitUi = ttk.Button(contentFrame, text='Exit', command=quitUi, width=btnWidth)\n",
    "\n",
    "\n",
    "radio_airSelectionHeat= Radiobutton(contentFrame, text='Heat', variable=airSelectionVal, value=0, command = setAirMode, indicatoron=0)\n",
    "radio_airSelectionCool= Radiobutton(contentFrame, text='Cool', variable=airSelectionVal, value=1,  command = setAirMode, indicatoron=0)\n",
    "radio_airSelectionFan= Radiobutton(contentFrame, text='Fan', variable=airSelectionVal, value=2,  command = setAirMode, indicatoron=0)\n",
    "radio_airSelectionOff= Radiobutton(contentFrame, text='Off', variable=airSelectionVal, value=3,  command = setAirMode, indicatoron=0)\n",
    "radio_airSelectionAuto= Radiobutton(contentFrame, text='Auto', variable=airSelectionVal, value=4,  command = setAirMode, indicatoron=0)\n",
    "\n",
    "#spinbox\n",
    "spinUpdateDesTemp = Spinbox(contentFrame, from_ = 60.00, to = 99.00, textvariable = desTempVal, command = updateDesTemp, \n",
    "                            width =4,font=dTempFont, increment=.5, justify=CENTER, bg='light grey', relief='solid', \n",
    "                            state='readonly')\n",
    "#flat, groove, raised, ridge, solid, or sunken\n",
    "\n",
    "\n",
    "\n",
    "\n",
    "def gridStuff():\n",
    "    ###Grid UI stuff\n",
    "    #Content Frame\n",
    "    contentFrame.grid(column=0, row=0, sticky='nsew')\n",
    "\n",
    "    #labels\n",
    "    lblpad_x = 5\n",
    "    lblpad_y = 5\n",
    "    lblcolspan = 1\n",
    "    lblrowspan = 1\n",
    "    lblsticky = (E,W)\n",
    "    #label_currTemp.grid(row=0, column=0, columnspan=lblcolspan, rowspan=lblrowspan,sticky=lblsticky, pady=lblpad_y, padx=lblpad_x)\n",
    "    label_currTempVal.grid(row=1, column=0, columnspan=lblcolspan, rowspan=lblrowspan,sticky=lblsticky, pady=lblpad_y, padx=lblpad_x)\n",
    "    #label_desiredTemp.grid(row=0, column=1, columnspan=lblcolspan, rowspan=lblrowspan,sticky=lblsticky, pady=lblpad_y, padx=lblpad_x)\n",
    "    #label_desiredTempVal.grid(column=2, row = 2, columnspan=lblcolspan, rowspan=lblrowspan,sticky=(N,S), pady=lblpad_y, padx=lblpad_x)\n",
    "    #label_currHumid.grid(row=0, column=2, columnspan=lblcolspan, rowspan=lblrowspan,sticky=lblsticky, pady=lblpad_y, padx=lblpad_x)\n",
    "    label_currHumidVal.grid(row=1, column=3, columnspan=lblcolspan, rowspan=lblrowspan,sticky=lblsticky, pady=lblpad_y, padx=lblpad_x)\n",
    "    label_currentDateVal.grid(row=2, column=0, columnspan=4, rowspan=lblrowspan,sticky=lblsticky, pady=lblpad_y, padx=lblpad_x)\n",
    "    label_currentTimeVal.grid(row=3, column=0, columnspan=4, rowspan=lblrowspan,sticky=lblsticky, pady=lblpad_y, padx=lblpad_x)\n",
    "    \n",
    "    label_outsideTempVal.grid(row=2, column=0, columnspan=lblcolspan, rowspan=2,sticky=lblsticky, pady=lblpad_y, padx=lblpad_x)\n",
    "    label_outsideHumidVal.grid(row=2, column=3, columnspan=lblcolspan, rowspan=2,sticky=lblsticky, pady=lblpad_y, padx=lblpad_x)\n",
    "    \n",
    "    text_currentForecast.grid(row=5, column=0, columnspan=3, rowspan=lblrowspan,sticky=lblsticky, pady=lblpad_y, padx=lblpad_x)\n",
    "    \n",
    "    \n",
    "    #Buttons and spinbox\n",
    "    #button configs\n",
    "    btnpad_x = 10\n",
    "    btnpad_y = 10\n",
    "    btncolspan = 1\n",
    "    btnrowspan = 1\n",
    "    btnsticky = (E,W)\n",
    "    \n",
    "    #btnRefreshTemp.grid(column=0, row=2, columnspan=btncolspan, rowspan=btnrowspan, sticky=btnsticky, pady=btnpad_y, padx=btnpad_x)\n",
    "    \n",
    "    spinUpdateDesTemp.grid(row=1, column=1, columnspan=2, rowspan=btnrowspan, sticky=btnsticky, pady=btnpad_y, padx=btnpad_x)\n",
    "    \n",
    "    radio_airSelectionHeat.grid(row=4, column=0, columnspan=btncolspan, rowspan=btnrowspan, sticky=btnsticky, pady=btnpad_y, padx=btnpad_x)\n",
    "    radio_airSelectionCool.grid(row=4, column=1, columnspan=btncolspan, rowspan=btnrowspan, sticky=btnsticky, pady=btnpad_y, padx=btnpad_x)\n",
    "    radio_airSelectionFan.grid(row=4, column=2, columnspan=btncolspan, rowspan=btnrowspan, sticky=btnsticky, pady=btnpad_y, padx=btnpad_x)\n",
    "    radio_airSelectionOff.grid(row=4, column=3, columnspan=btncolspan, rowspan=btnrowspan, sticky=btnsticky, pady=btnpad_y, padx=btnpad_x)\n",
    "    \n",
    "    btnQuitUi.grid(row=5, column=3, columnspan=btncolspan, rowspan=btnrowspan, sticky=btnsticky, pady=btnpad_y, padx=btnpad_x)\n",
    "\n",
    "getDBInformation()\n",
    "gridStuff()\n",
    "\n",
    "\n",
    "rootWindow.mainloop()"
   ]
  },
  {
   "cell_type": "markdown",
   "metadata": {},
   "source": [
    "###Dev Testing"
   ]
  },
  {
   "cell_type": "code",
   "execution_count": null,
   "metadata": {
    "collapsed": true
   },
   "outputs": [],
   "source": [
    "#rtuQuery = ThermoData.getRealtimeData()"
   ]
  },
  {
   "cell_type": "code",
   "execution_count": null,
   "metadata": {
    "collapsed": false
   },
   "outputs": [],
   "source": [
    "#float(rtuQuery.rt_destemp)"
   ]
  },
  {
   "cell_type": "code",
   "execution_count": null,
   "metadata": {
    "collapsed": true
   },
   "outputs": [],
   "source": [
    "#ThermoData.updateRealTimeData(rtQuery)"
   ]
  },
  {
   "cell_type": "code",
   "execution_count": null,
   "metadata": {
    "collapsed": false
   },
   "outputs": [],
   "source": [
    "#rtQuery = ThermoData.getRealtimeData()\n",
    "#rtQuery.rt_currenttemp\n",
    "#currentTime = rtuQuery.rt_datetime"
   ]
  },
  {
   "cell_type": "code",
   "execution_count": null,
   "metadata": {
    "collapsed": false
   },
   "outputs": [],
   "source": [
    "#central = timezone('US/Central')\n",
    "#print currentTime.astimezone(central)"
   ]
  },
  {
   "cell_type": "code",
   "execution_count": null,
   "metadata": {
    "collapsed": false
   },
   "outputs": [],
   "source": [
    "#dir(currentTime)"
   ]
  }
 ],
 "metadata": {
  "kernelspec": {
   "display_name": "Python 2",
   "language": "python",
   "name": "python2"
  },
  "language_info": {
   "codemirror_mode": {
    "name": "ipython",
    "version": 2
   },
   "file_extension": ".py",
   "mimetype": "text/x-python",
   "name": "python",
   "nbconvert_exporter": "python",
   "pygments_lexer": "ipython2",
   "version": "2.7.3"
  }
 },
 "nbformat": 4,
 "nbformat_minor": 0
}
